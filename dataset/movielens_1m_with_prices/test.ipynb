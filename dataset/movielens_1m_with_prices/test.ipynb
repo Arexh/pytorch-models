{
 "metadata": {
  "language_info": {
   "codemirror_mode": {
    "name": "ipython",
    "version": 3
   },
   "file_extension": ".py",
   "mimetype": "text/x-python",
   "name": "python",
   "nbconvert_exporter": "python",
   "pygments_lexer": "ipython3",
   "version": "3.7.9"
  },
  "orig_nbformat": 2,
  "kernelspec": {
   "name": "python379jvsc74a57bd05d76949e414398786e5f4a59411ce335d3c74e0116dd54c7a68a744e72d4ab38",
   "display_name": "Python 3.7.9 64-bit ('deepctr-tf-gpu': conda)"
  },
  "metadata": {
   "interpreter": {
    "hash": "5d76949e414398786e5f4a59411ce335d3c74e0116dd54c7a68a744e72d4ab38"
   }
  }
 },
 "nbformat": 4,
 "nbformat_minor": 2,
 "cells": [
  {
   "cell_type": "code",
   "execution_count": 4,
   "metadata": {},
   "outputs": [],
   "source": [
    "import numpy as np\n",
    "import pandas as pd"
   ]
  },
  {
   "cell_type": "code",
   "execution_count": 9,
   "metadata": {},
   "outputs": [],
   "source": [
    "users_df = pd.read_csv('users.dat', names=[\"userId\", \"gender\", \"age\", \"occupation\", \"zip\"], sep='::', engine='python')\n",
    "prices_df = pd.read_csv('prices.csv')\n",
    "ratings_df = pd.read_csv('ratings.dat', names=['userId','movieId','rating','timestamp'], sep=\"::\", engine='python')"
   ]
  },
  {
   "cell_type": "code",
   "execution_count": 25,
   "metadata": {},
   "outputs": [],
   "source": [
    "del prices_df['title']\n",
    "del prices_df['pageUrl']"
   ]
  },
  {
   "cell_type": "code",
   "execution_count": 26,
   "metadata": {},
   "outputs": [
    {
     "output_type": "execute_result",
     "data": {
      "text/plain": [
       "   movieId  price\n",
       "0        1  19.99\n",
       "1        3  12.99\n",
       "2        4  19.99\n",
       "3        6  14.99\n",
       "4        7  10.40"
      ],
      "text/html": "<div>\n<style scoped>\n    .dataframe tbody tr th:only-of-type {\n        vertical-align: middle;\n    }\n\n    .dataframe tbody tr th {\n        vertical-align: top;\n    }\n\n    .dataframe thead th {\n        text-align: right;\n    }\n</style>\n<table border=\"1\" class=\"dataframe\">\n  <thead>\n    <tr style=\"text-align: right;\">\n      <th></th>\n      <th>movieId</th>\n      <th>price</th>\n    </tr>\n  </thead>\n  <tbody>\n    <tr>\n      <th>0</th>\n      <td>1</td>\n      <td>19.99</td>\n    </tr>\n    <tr>\n      <th>1</th>\n      <td>3</td>\n      <td>12.99</td>\n    </tr>\n    <tr>\n      <th>2</th>\n      <td>4</td>\n      <td>19.99</td>\n    </tr>\n    <tr>\n      <th>3</th>\n      <td>6</td>\n      <td>14.99</td>\n    </tr>\n    <tr>\n      <th>4</th>\n      <td>7</td>\n      <td>10.40</td>\n    </tr>\n  </tbody>\n</table>\n</div>"
     },
     "metadata": {},
     "execution_count": 26
    }
   ],
   "source": [
    "prices_df.head()"
   ]
  },
  {
   "cell_type": "code",
   "execution_count": 44,
   "metadata": {},
   "outputs": [],
   "source": [
    "data = pd.merge(pd.merge(ratings_df, users_df), prices_df)"
   ]
  },
  {
   "cell_type": "code",
   "execution_count": 28,
   "metadata": {},
   "outputs": [
    {
     "output_type": "execute_result",
     "data": {
      "text/plain": [
       "   userId  movieId  rating  timestamp gender  age  occupation    zip  price\n",
       "0       1     1193       5  978300760      F    1          10  48067  14.99\n",
       "1       2     1193       5  978298413      M   56          16  70072  14.99\n",
       "2      12     1193       4  978220179      M   25          12  32793  14.99\n",
       "3      15     1193       4  978199279      M   25           7  22903  14.99\n",
       "4      17     1193       5  978158471      M   50           1  95350  14.99"
      ],
      "text/html": "<div>\n<style scoped>\n    .dataframe tbody tr th:only-of-type {\n        vertical-align: middle;\n    }\n\n    .dataframe tbody tr th {\n        vertical-align: top;\n    }\n\n    .dataframe thead th {\n        text-align: right;\n    }\n</style>\n<table border=\"1\" class=\"dataframe\">\n  <thead>\n    <tr style=\"text-align: right;\">\n      <th></th>\n      <th>userId</th>\n      <th>movieId</th>\n      <th>rating</th>\n      <th>timestamp</th>\n      <th>gender</th>\n      <th>age</th>\n      <th>occupation</th>\n      <th>zip</th>\n      <th>price</th>\n    </tr>\n  </thead>\n  <tbody>\n    <tr>\n      <th>0</th>\n      <td>1</td>\n      <td>1193</td>\n      <td>5</td>\n      <td>978300760</td>\n      <td>F</td>\n      <td>1</td>\n      <td>10</td>\n      <td>48067</td>\n      <td>14.99</td>\n    </tr>\n    <tr>\n      <th>1</th>\n      <td>2</td>\n      <td>1193</td>\n      <td>5</td>\n      <td>978298413</td>\n      <td>M</td>\n      <td>56</td>\n      <td>16</td>\n      <td>70072</td>\n      <td>14.99</td>\n    </tr>\n    <tr>\n      <th>2</th>\n      <td>12</td>\n      <td>1193</td>\n      <td>4</td>\n      <td>978220179</td>\n      <td>M</td>\n      <td>25</td>\n      <td>12</td>\n      <td>32793</td>\n      <td>14.99</td>\n    </tr>\n    <tr>\n      <th>3</th>\n      <td>15</td>\n      <td>1193</td>\n      <td>4</td>\n      <td>978199279</td>\n      <td>M</td>\n      <td>25</td>\n      <td>7</td>\n      <td>22903</td>\n      <td>14.99</td>\n    </tr>\n    <tr>\n      <th>4</th>\n      <td>17</td>\n      <td>1193</td>\n      <td>5</td>\n      <td>978158471</td>\n      <td>M</td>\n      <td>50</td>\n      <td>1</td>\n      <td>95350</td>\n      <td>14.99</td>\n    </tr>\n  </tbody>\n</table>\n</div>"
     },
     "metadata": {},
     "execution_count": 28
    }
   ],
   "source": [
    "data.head()"
   ]
  },
  {
   "cell_type": "code",
   "execution_count": 45,
   "metadata": {},
   "outputs": [],
   "source": []
  },
  {
   "cell_type": "code",
   "execution_count": 46,
   "metadata": {},
   "outputs": [
    {
     "output_type": "execute_result",
     "data": {
      "text/plain": [
       "   userId  movieId  rating  timestamp  gender  age  occupation   zip  price\n",
       "0       0      770       5  978300760       0    0          10  1588  14.99\n",
       "1       1      770       5  978298413       1    6          16  2248  14.99\n",
       "2      11      770       4  978220179       1    2          12  1165  14.99\n",
       "3      14      770       4  978199279       1    2           7   904  14.99\n",
       "4      16      770       5  978158471       1    5           1  3187  14.99\n",
       "5      17      770       4  978156168       0    1           3  3227  14.99\n",
       "6      18      770       5  982730936       1    0          10  1591  14.99\n",
       "7      23      770       5  978136709       0    2           7   416  14.99\n",
       "8      27      770       3  978125194       0    2           1   615  14.99\n",
       "9      32      770       5  978557765       1    4           3  1915  14.99"
      ],
      "text/html": "<div>\n<style scoped>\n    .dataframe tbody tr th:only-of-type {\n        vertical-align: middle;\n    }\n\n    .dataframe tbody tr th {\n        vertical-align: top;\n    }\n\n    .dataframe thead th {\n        text-align: right;\n    }\n</style>\n<table border=\"1\" class=\"dataframe\">\n  <thead>\n    <tr style=\"text-align: right;\">\n      <th></th>\n      <th>userId</th>\n      <th>movieId</th>\n      <th>rating</th>\n      <th>timestamp</th>\n      <th>gender</th>\n      <th>age</th>\n      <th>occupation</th>\n      <th>zip</th>\n      <th>price</th>\n    </tr>\n  </thead>\n  <tbody>\n    <tr>\n      <th>0</th>\n      <td>0</td>\n      <td>770</td>\n      <td>5</td>\n      <td>978300760</td>\n      <td>0</td>\n      <td>0</td>\n      <td>10</td>\n      <td>1588</td>\n      <td>14.99</td>\n    </tr>\n    <tr>\n      <th>1</th>\n      <td>1</td>\n      <td>770</td>\n      <td>5</td>\n      <td>978298413</td>\n      <td>1</td>\n      <td>6</td>\n      <td>16</td>\n      <td>2248</td>\n      <td>14.99</td>\n    </tr>\n    <tr>\n      <th>2</th>\n      <td>11</td>\n      <td>770</td>\n      <td>4</td>\n      <td>978220179</td>\n      <td>1</td>\n      <td>2</td>\n      <td>12</td>\n      <td>1165</td>\n      <td>14.99</td>\n    </tr>\n    <tr>\n      <th>3</th>\n      <td>14</td>\n      <td>770</td>\n      <td>4</td>\n      <td>978199279</td>\n      <td>1</td>\n      <td>2</td>\n      <td>7</td>\n      <td>904</td>\n      <td>14.99</td>\n    </tr>\n    <tr>\n      <th>4</th>\n      <td>16</td>\n      <td>770</td>\n      <td>5</td>\n      <td>978158471</td>\n      <td>1</td>\n      <td>5</td>\n      <td>1</td>\n      <td>3187</td>\n      <td>14.99</td>\n    </tr>\n    <tr>\n      <th>5</th>\n      <td>17</td>\n      <td>770</td>\n      <td>4</td>\n      <td>978156168</td>\n      <td>0</td>\n      <td>1</td>\n      <td>3</td>\n      <td>3227</td>\n      <td>14.99</td>\n    </tr>\n    <tr>\n      <th>6</th>\n      <td>18</td>\n      <td>770</td>\n      <td>5</td>\n      <td>982730936</td>\n      <td>1</td>\n      <td>0</td>\n      <td>10</td>\n      <td>1591</td>\n      <td>14.99</td>\n    </tr>\n    <tr>\n      <th>7</th>\n      <td>23</td>\n      <td>770</td>\n      <td>5</td>\n      <td>978136709</td>\n      <td>0</td>\n      <td>2</td>\n      <td>7</td>\n      <td>416</td>\n      <td>14.99</td>\n    </tr>\n    <tr>\n      <th>8</th>\n      <td>27</td>\n      <td>770</td>\n      <td>3</td>\n      <td>978125194</td>\n      <td>0</td>\n      <td>2</td>\n      <td>1</td>\n      <td>615</td>\n      <td>14.99</td>\n    </tr>\n    <tr>\n      <th>9</th>\n      <td>32</td>\n      <td>770</td>\n      <td>5</td>\n      <td>978557765</td>\n      <td>1</td>\n      <td>4</td>\n      <td>3</td>\n      <td>1915</td>\n      <td>14.99</td>\n    </tr>\n  </tbody>\n</table>\n</div>"
     },
     "metadata": {},
     "execution_count": 46
    }
   ],
   "source": [
    "data.head(10)"
   ]
  },
  {
   "cell_type": "code",
   "execution_count": 64,
   "metadata": {},
   "outputs": [
    {
     "output_type": "error",
     "ename": "ModuleNotFoundError",
     "evalue": "No module named 'torch'",
     "traceback": [
      "\u001b[0;31m---------------------------------------------------------------------------\u001b[0m",
      "\u001b[0;31mModuleNotFoundError\u001b[0m                       Traceback (most recent call last)",
      "\u001b[0;32m<ipython-input-64-df78cc5dc5bf>\u001b[0m in \u001b[0;36m<module>\u001b[0;34m\u001b[0m\n\u001b[1;32m      1\u001b[0m \u001b[0msys\u001b[0m\u001b[0;34m.\u001b[0m\u001b[0mpath\u001b[0m\u001b[0;34m.\u001b[0m\u001b[0mappend\u001b[0m\u001b[0;34m(\u001b[0m\u001b[0;34m\"../../\"\u001b[0m\u001b[0;34m)\u001b[0m\u001b[0;34m\u001b[0m\u001b[0;34m\u001b[0m\u001b[0m\n\u001b[0;32m----> 2\u001b[0;31m \u001b[0;32mimport\u001b[0m \u001b[0mdata_loader\u001b[0m\u001b[0;34m.\u001b[0m\u001b[0mmovielens_1m_with_prices\u001b[0m\u001b[0;34m\u001b[0m\u001b[0;34m\u001b[0m\u001b[0m\n\u001b[0m",
      "\u001b[0;32m~/PeilinWu/Repos/pytorch-models/data_loader/movielens_1m_with_prices.py\u001b[0m in \u001b[0;36m<module>\u001b[0;34m\u001b[0m\n\u001b[1;32m      1\u001b[0m \u001b[0;32mfrom\u001b[0m \u001b[0msklearn\u001b[0m\u001b[0;34m.\u001b[0m\u001b[0mpreprocessing\u001b[0m \u001b[0;32mimport\u001b[0m \u001b[0mLabelEncoder\u001b[0m\u001b[0;34m,\u001b[0m \u001b[0mMinMaxScaler\u001b[0m\u001b[0;34m\u001b[0m\u001b[0;34m\u001b[0m\u001b[0m\n\u001b[1;32m      2\u001b[0m \u001b[0;32mfrom\u001b[0m \u001b[0mutils\u001b[0m\u001b[0;34m.\u001b[0m\u001b[0mutil\u001b[0m \u001b[0;32mimport\u001b[0m \u001b[0mensure_dir\u001b[0m\u001b[0;34m\u001b[0m\u001b[0;34m\u001b[0m\u001b[0m\n\u001b[0;32m----> 3\u001b[0;31m \u001b[0;32mfrom\u001b[0m \u001b[0mbase\u001b[0m \u001b[0;32mimport\u001b[0m \u001b[0mBaseDataLoader\u001b[0m\u001b[0;34m\u001b[0m\u001b[0;34m\u001b[0m\u001b[0m\n\u001b[0m\u001b[1;32m      4\u001b[0m \u001b[0;34m\u001b[0m\u001b[0m\n\u001b[1;32m      5\u001b[0m \u001b[0;32mimport\u001b[0m \u001b[0mpandas\u001b[0m \u001b[0;32mas\u001b[0m \u001b[0mpd\u001b[0m\u001b[0;34m\u001b[0m\u001b[0;34m\u001b[0m\u001b[0m\n",
      "\u001b[0;32m~/PeilinWu/Repos/pytorch-models/base/__init__.py\u001b[0m in \u001b[0;36m<module>\u001b[0;34m\u001b[0m\n\u001b[0;32m----> 1\u001b[0;31m \u001b[0;32mfrom\u001b[0m \u001b[0;34m.\u001b[0m\u001b[0mbase_data_loader\u001b[0m \u001b[0;32mimport\u001b[0m \u001b[0;34m*\u001b[0m\u001b[0;34m\u001b[0m\u001b[0;34m\u001b[0m\u001b[0m\n\u001b[0m\u001b[1;32m      2\u001b[0m \u001b[0;32mfrom\u001b[0m \u001b[0;34m.\u001b[0m\u001b[0mbase_model\u001b[0m \u001b[0;32mimport\u001b[0m \u001b[0;34m*\u001b[0m\u001b[0;34m\u001b[0m\u001b[0;34m\u001b[0m\u001b[0m\n\u001b[1;32m      3\u001b[0m \u001b[0;32mfrom\u001b[0m \u001b[0;34m.\u001b[0m\u001b[0mbase_trainer\u001b[0m \u001b[0;32mimport\u001b[0m \u001b[0;34m*\u001b[0m\u001b[0;34m\u001b[0m\u001b[0;34m\u001b[0m\u001b[0m\n",
      "\u001b[0;32m~/PeilinWu/Repos/pytorch-models/base/base_data_loader.py\u001b[0m in \u001b[0;36m<module>\u001b[0;34m\u001b[0m\n\u001b[1;32m      1\u001b[0m \u001b[0;32mimport\u001b[0m \u001b[0mnumpy\u001b[0m \u001b[0;32mas\u001b[0m \u001b[0mnp\u001b[0m\u001b[0;34m\u001b[0m\u001b[0;34m\u001b[0m\u001b[0m\n\u001b[0;32m----> 2\u001b[0;31m \u001b[0;32mfrom\u001b[0m \u001b[0mtorch\u001b[0m\u001b[0;34m.\u001b[0m\u001b[0mutils\u001b[0m\u001b[0;34m.\u001b[0m\u001b[0mdata\u001b[0m \u001b[0;32mimport\u001b[0m \u001b[0mDataLoader\u001b[0m\u001b[0;34m\u001b[0m\u001b[0;34m\u001b[0m\u001b[0m\n\u001b[0m\u001b[1;32m      3\u001b[0m \u001b[0;32mfrom\u001b[0m \u001b[0mtorch\u001b[0m\u001b[0;34m.\u001b[0m\u001b[0mutils\u001b[0m\u001b[0;34m.\u001b[0m\u001b[0mdata\u001b[0m\u001b[0;34m.\u001b[0m\u001b[0mdataloader\u001b[0m \u001b[0;32mimport\u001b[0m \u001b[0mdefault_collate\u001b[0m\u001b[0;34m\u001b[0m\u001b[0;34m\u001b[0m\u001b[0m\n\u001b[1;32m      4\u001b[0m \u001b[0;32mfrom\u001b[0m \u001b[0mtorch\u001b[0m\u001b[0;34m.\u001b[0m\u001b[0mutils\u001b[0m\u001b[0;34m.\u001b[0m\u001b[0mdata\u001b[0m\u001b[0;34m.\u001b[0m\u001b[0msampler\u001b[0m \u001b[0;32mimport\u001b[0m \u001b[0mSubsetRandomSampler\u001b[0m\u001b[0;34m\u001b[0m\u001b[0;34m\u001b[0m\u001b[0m\n\u001b[1;32m      5\u001b[0m \u001b[0;34m\u001b[0m\u001b[0m\n",
      "\u001b[0;31mModuleNotFoundError\u001b[0m: No module named 'torch'"
     ]
    }
   ],
   "source": [
    "sys.path.append(\"../../\")\n",
    "import data_loader.movielens_1m_with_prices"
   ]
  },
  {
   "cell_type": "code",
   "execution_count": 58,
   "metadata": {},
   "outputs": [],
   "source": [
    "data = pd.merge(pd.merge(ratings_df, users_df), prices_df)\n",
    "from sklearn.preprocessing import LabelEncoder\n",
    "sparse_features = [\"userId\", \"gender\", \"age\", \"occupation\", \"zip\", \"movieId\"]\n",
    "for feature in sparse_features:\n",
    "    lbe = LabelEncoder()\n",
    "    data[feature] = lbe.fit_transform(data[feature])\n",
    "data = data.drop(data[data['rating'] == 3].index)\n",
    "data.loc[data['rating'] < 3, 'rating'] = 0\n",
    "data.loc[data['rating'] > 3, 'rating'] = 1"
   ]
  },
  {
   "cell_type": "code",
   "execution_count": 59,
   "metadata": {},
   "outputs": [
    {
     "output_type": "execute_result",
     "data": {
      "text/plain": [
       "    userId  movieId  rating  timestamp  gender  age  occupation   zip  price\n",
       "0        0      770       1  978300760       0    0          10  1588  14.99\n",
       "1        1      770       1  978298413       1    6          16  2248  14.99\n",
       "2       11      770       1  978220179       1    2          12  1165  14.99\n",
       "3       14      770       1  978199279       1    2           7   904  14.99\n",
       "4       16      770       1  978158471       1    5           1  3187  14.99\n",
       "5       17      770       1  978156168       0    1           3  3227  14.99\n",
       "6       18      770       1  982730936       1    0          10  1591  14.99\n",
       "7       23      770       1  978136709       0    2           7   416  14.99\n",
       "9       32      770       1  978557765       1    4           3  1915  14.99\n",
       "10      38      770       1  978043535       1    1           4  2112  14.99"
      ],
      "text/html": "<div>\n<style scoped>\n    .dataframe tbody tr th:only-of-type {\n        vertical-align: middle;\n    }\n\n    .dataframe tbody tr th {\n        vertical-align: top;\n    }\n\n    .dataframe thead th {\n        text-align: right;\n    }\n</style>\n<table border=\"1\" class=\"dataframe\">\n  <thead>\n    <tr style=\"text-align: right;\">\n      <th></th>\n      <th>userId</th>\n      <th>movieId</th>\n      <th>rating</th>\n      <th>timestamp</th>\n      <th>gender</th>\n      <th>age</th>\n      <th>occupation</th>\n      <th>zip</th>\n      <th>price</th>\n    </tr>\n  </thead>\n  <tbody>\n    <tr>\n      <th>0</th>\n      <td>0</td>\n      <td>770</td>\n      <td>1</td>\n      <td>978300760</td>\n      <td>0</td>\n      <td>0</td>\n      <td>10</td>\n      <td>1588</td>\n      <td>14.99</td>\n    </tr>\n    <tr>\n      <th>1</th>\n      <td>1</td>\n      <td>770</td>\n      <td>1</td>\n      <td>978298413</td>\n      <td>1</td>\n      <td>6</td>\n      <td>16</td>\n      <td>2248</td>\n      <td>14.99</td>\n    </tr>\n    <tr>\n      <th>2</th>\n      <td>11</td>\n      <td>770</td>\n      <td>1</td>\n      <td>978220179</td>\n      <td>1</td>\n      <td>2</td>\n      <td>12</td>\n      <td>1165</td>\n      <td>14.99</td>\n    </tr>\n    <tr>\n      <th>3</th>\n      <td>14</td>\n      <td>770</td>\n      <td>1</td>\n      <td>978199279</td>\n      <td>1</td>\n      <td>2</td>\n      <td>7</td>\n      <td>904</td>\n      <td>14.99</td>\n    </tr>\n    <tr>\n      <th>4</th>\n      <td>16</td>\n      <td>770</td>\n      <td>1</td>\n      <td>978158471</td>\n      <td>1</td>\n      <td>5</td>\n      <td>1</td>\n      <td>3187</td>\n      <td>14.99</td>\n    </tr>\n    <tr>\n      <th>5</th>\n      <td>17</td>\n      <td>770</td>\n      <td>1</td>\n      <td>978156168</td>\n      <td>0</td>\n      <td>1</td>\n      <td>3</td>\n      <td>3227</td>\n      <td>14.99</td>\n    </tr>\n    <tr>\n      <th>6</th>\n      <td>18</td>\n      <td>770</td>\n      <td>1</td>\n      <td>982730936</td>\n      <td>1</td>\n      <td>0</td>\n      <td>10</td>\n      <td>1591</td>\n      <td>14.99</td>\n    </tr>\n    <tr>\n      <th>7</th>\n      <td>23</td>\n      <td>770</td>\n      <td>1</td>\n      <td>978136709</td>\n      <td>0</td>\n      <td>2</td>\n      <td>7</td>\n      <td>416</td>\n      <td>14.99</td>\n    </tr>\n    <tr>\n      <th>9</th>\n      <td>32</td>\n      <td>770</td>\n      <td>1</td>\n      <td>978557765</td>\n      <td>1</td>\n      <td>4</td>\n      <td>3</td>\n      <td>1915</td>\n      <td>14.99</td>\n    </tr>\n    <tr>\n      <th>10</th>\n      <td>38</td>\n      <td>770</td>\n      <td>1</td>\n      <td>978043535</td>\n      <td>1</td>\n      <td>1</td>\n      <td>4</td>\n      <td>2112</td>\n      <td>14.99</td>\n    </tr>\n  </tbody>\n</table>\n</div>"
     },
     "metadata": {},
     "execution_count": 59
    }
   ],
   "source": [
    "data.head(10)"
   ]
  },
  {
   "cell_type": "code",
   "execution_count": null,
   "metadata": {},
   "outputs": [],
   "source": []
  }
 ]
}